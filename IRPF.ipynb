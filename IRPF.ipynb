{
 "cells": [
  {
   "cell_type": "code",
   "execution_count": null,
   "metadata": {},
   "outputs": [],
   "source": [
    "import pandas as pd\n",
    "pd.options.display.float_format = '${:,.2f}'.format\n",
    "import datetime as dt\n",
    "import numpy as np\n",
    "from FinanceTools import *\n",
    "from IRPF_Tools import *\n",
    "\n",
    "csv = 'debug/df_log_br.tsv'"
   ]
  },
  {
   "cell_type": "code",
   "execution_count": null,
   "metadata": {},
   "outputs": [],
   "source": [
    "\n",
    "irpf = IRPF_BensDireitos(csv)\n",
    "irpf.load()\n",
    "# df"
   ]
  },
  {
   "cell_type": "code",
   "execution_count": null,
   "metadata": {},
   "outputs": [],
   "source": [
    "ac = irpf.get_last_year()\n",
    "ac = ac[ac['DESC'].str.contains('Ação')]\n",
    "irpf.show(ac)"
   ]
  },
  {
   "cell_type": "code",
   "execution_count": null,
   "metadata": {},
   "outputs": [],
   "source": [
    "fii = irpf.get_last_year()\n",
    "fii = fii[fii['DESC'].str.contains('FII')]\n",
    "irpf.show(fii)"
   ]
  },
  {
   "cell_type": "code",
   "execution_count": null,
   "metadata": {},
   "outputs": [],
   "source": [
    "irpf.show(irpf.get_last_year())"
   ]
  },
  {
   "cell_type": "code",
   "execution_count": null,
   "metadata": {},
   "outputs": [],
   "source": [
    "df = pd.read_csv('/home/doreis/Documents/IRPF/2022/2022_informes_redimento/clear/proventos.csv', decimal=',', thousands='.')\n",
    "print(df[df['Ativo'] == 'CIELO'])\n",
    "df=df[['Ativo', 'Evento', 'ValorLiquido']]\n",
    "df['Ativo'] = df['Ativo'].str.replace('FII', 'FII ')\n",
    "display(df)"
   ]
  },
  {
   "cell_type": "code",
   "execution_count": null,
   "metadata": {},
   "outputs": [],
   "source": [
    "display(df)"
   ]
  },
  {
   "cell_type": "code",
   "execution_count": null,
   "metadata": {},
   "outputs": [],
   "source": [
    "g = df.groupby(['Ativo', 'Evento'])\n",
    "display(g['ValorLiquido'].sum())"
   ]
  },
  {
   "cell_type": "code",
   "execution_count": null,
   "metadata": {},
   "outputs": [],
   "source": [
    "tx = Taxation(csv)\n",
    "tx.Process('Ação')\n",
    "display(tx.swingTradeTable)\n",
    "display(tx.dayTradeTable)"
   ]
  },
  {
   "cell_type": "code",
   "execution_count": null,
   "metadata": {},
   "outputs": [],
   "source": [
    "tx = Taxation(csv)\n",
    "tx.Process('FII')\n",
    "display(tx.swingTradeTable)"
   ]
  }
 ],
 "metadata": {
  "kernelspec": {
   "display_name": "Python 3.8.10 64-bit",
   "language": "python",
   "name": "python3"
  },
  "language_info": {
   "codemirror_mode": {
    "name": "ipython",
    "version": 3
   },
   "file_extension": ".py",
   "mimetype": "text/x-python",
   "name": "python",
   "nbconvert_exporter": "python",
   "pygments_lexer": "ipython3",
   "version": "3.8.10"
  },
  "orig_nbformat": 4,
  "vscode": {
   "interpreter": {
    "hash": "31f2aee4e71d21fbe5cf8b01ff0e069b9275f58929596ceb00d14d90e3e16cd6"
   }
  }
 },
 "nbformat": 4,
 "nbformat_minor": 2
}
